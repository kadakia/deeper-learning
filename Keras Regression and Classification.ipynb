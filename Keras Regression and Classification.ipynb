{
 "cells": [
  {
   "cell_type": "markdown",
   "metadata": {},
   "source": [
    "# Regression"
   ]
  },
  {
   "cell_type": "code",
   "execution_count": 3,
   "metadata": {},
   "outputs": [
    {
     "name": "stdout",
     "output_type": "stream",
     "text": [
      "<class 'pandas.core.frame.DataFrame'>\n",
      "RangeIndex: 534 entries, 0 to 533\n",
      "Data columns (total 9 columns):\n",
      "union             534 non-null int64\n",
      "education_yrs     534 non-null int64\n",
      "experience_yrs    534 non-null int64\n",
      "age               534 non-null int64\n",
      "female            534 non-null int64\n",
      "marr              534 non-null int64\n",
      "south             534 non-null int64\n",
      "manufacturing     534 non-null int64\n",
      "construction      534 non-null int64\n",
      "dtypes: int64(9)\n",
      "memory usage: 37.6 KB\n",
      "None\n",
      "<class 'numpy.ndarray'>\n",
      "(534, 9)\n"
     ]
    }
   ],
   "source": [
    "import pandas as pd\n",
    "\n",
    "pred_df = pd.read_csv('hourly_wages.csv', usecols = [1,2,3,4,5,6,7,8,9])\n",
    "print(pred_df.info())\n",
    "\n",
    "pred = pred_df.values\n",
    "print(type(pred))\n",
    "print(pred.shape)"
   ]
  },
  {
   "cell_type": "code",
   "execution_count": 19,
   "metadata": {},
   "outputs": [
    {
     "name": "stdout",
     "output_type": "stream",
     "text": [
      "<class 'pandas.core.frame.DataFrame'>\n",
      "RangeIndex: 534 entries, 0 to 533\n",
      "Data columns (total 1 columns):\n",
      "wage_per_hour    534 non-null float64\n",
      "dtypes: float64(1)\n",
      "memory usage: 4.2 KB\n",
      "None\n",
      "(534, 1)\n",
      "(534,)\n"
     ]
    }
   ],
   "source": [
    "targ_df = pd.read_csv('hourly_wages.csv', usecols = [0])\n",
    "print(targ_df.info())\n",
    "\n",
    "targ_2d = targ_df.values\n",
    "print(targ_2d.shape)\n",
    "\n",
    "targ = targ_2d.flatten()\n",
    "print(targ.shape)"
   ]
  },
  {
   "cell_type": "code",
   "execution_count": 16,
   "metadata": {
    "collapsed": true
   },
   "outputs": [],
   "source": [
    "import keras\n",
    "from keras.models import Sequential\n",
    "from keras.layers import Dense\n",
    "from keras.callbacks import EarlyStopping"
   ]
  },
  {
   "cell_type": "code",
   "execution_count": 28,
   "metadata": {},
   "outputs": [
    {
     "name": "stdout",
     "output_type": "stream",
     "text": [
      "Train on 427 samples, validate on 107 samples\n",
      "Epoch 1/25\n",
      "427/427 [==============================] - 0s - loss: 99.3142 - val_loss: 134.0491\n",
      "Epoch 2/25\n",
      "427/427 [==============================] - 0s - loss: 42.9791 - val_loss: 63.4161\n",
      "Epoch 3/25\n",
      "427/427 [==============================] - 0s - loss: 26.5199 - val_loss: 41.7102\n",
      "Epoch 4/25\n",
      "427/427 [==============================] - 0s - loss: 25.0077 - val_loss: 40.3780\n",
      "Epoch 5/25\n",
      "427/427 [==============================] - 0s - loss: 22.5444 - val_loss: 41.8741\n",
      "Epoch 6/25\n",
      "427/427 [==============================] - 0s - loss: 21.5528 - val_loss: 38.6591\n",
      "Epoch 7/25\n",
      "427/427 [==============================] - 0s - loss: 20.5880 - val_loss: 34.8185\n",
      "Epoch 8/25\n",
      "427/427 [==============================] - 0s - loss: 19.8385 - val_loss: 33.6518\n",
      "Epoch 9/25\n",
      "427/427 [==============================] - 0s - loss: 19.6189 - val_loss: 32.0824\n",
      "Epoch 10/25\n",
      "427/427 [==============================] - 0s - loss: 19.4434 - val_loss: 31.6428\n",
      "Epoch 11/25\n",
      "427/427 [==============================] - 0s - loss: 19.3150 - val_loss: 30.6821\n",
      "Epoch 12/25\n",
      "427/427 [==============================] - 0s - loss: 19.0743 - val_loss: 31.9611\n",
      "Epoch 13/25\n",
      "427/427 [==============================] - 0s - loss: 19.1768 - val_loss: 30.8920\n",
      "Epoch 14/25\n",
      "427/427 [==============================] - 0s - loss: 18.8720 - val_loss: 32.1693\n"
     ]
    }
   ],
   "source": [
    "# Predicting hourly wage for 107 individuals, based on various features\n",
    "wage_model = Sequential()\n",
    "\n",
    "# 2 hidden layers in the neural network\n",
    "wage_model.add(Dense(50, activation = 'relu', input_shape = (pred.shape[1],)))\n",
    "wage_model.add(Dense(32, activation = 'relu'))\n",
    "wage_model.add(Dense(1))\n",
    "\n",
    "wage_model.compile(optimizer = 'adam', loss = 'mean_squared_error')\n",
    "\n",
    "wage_model_training = wage_model.fit(pred,targ,epochs = 25,validation_split = 0.2,callbacks = [EarlyStopping(patience = 2)])"
   ]
  },
  {
   "cell_type": "raw",
   "metadata": {},
   "source": [
    "Now using hyperbolic tangent (sigmoidal) activation function:"
   ]
  },
  {
   "cell_type": "code",
   "execution_count": 27,
   "metadata": {},
   "outputs": [
    {
     "name": "stdout",
     "output_type": "stream",
     "text": [
      "Train on 427 samples, validate on 107 samples\n",
      "Epoch 1/25\n",
      "427/427 [==============================] - 0s - loss: 91.3520 - val_loss: 125.2185\n",
      "Epoch 2/25\n",
      "427/427 [==============================] - 0s - loss: 47.1174 - val_loss: 78.7076\n",
      "Epoch 3/25\n",
      "427/427 [==============================] - 0s - loss: 29.7122 - val_loss: 59.2450\n",
      "Epoch 4/25\n",
      "427/427 [==============================] - 0s - loss: 24.8264 - val_loss: 51.6995\n",
      "Epoch 5/25\n",
      "427/427 [==============================] - 0s - loss: 23.4132 - val_loss: 48.4148\n",
      "Epoch 6/25\n",
      "427/427 [==============================] - 0s - loss: 22.8873 - val_loss: 46.7851\n",
      "Epoch 7/25\n",
      "427/427 [==============================] - 0s - loss: 22.6495 - val_loss: 45.6460\n",
      "Epoch 8/25\n",
      "427/427 [==============================] - 0s - loss: 22.5149 - val_loss: 44.8924\n",
      "Epoch 9/25\n",
      "427/427 [==============================] - 0s - loss: 22.4043 - val_loss: 44.0620\n",
      "Epoch 10/25\n",
      "427/427 [==============================] - 0s - loss: 22.3411 - val_loss: 43.6599\n",
      "Epoch 11/25\n",
      "427/427 [==============================] - 0s - loss: 22.2217 - val_loss: 43.8432\n",
      "Epoch 12/25\n",
      "427/427 [==============================] - 0s - loss: 22.0380 - val_loss: 43.9451\n",
      "Epoch 13/25\n",
      "427/427 [==============================] - 0s - loss: 21.8799 - val_loss: 44.0314\n"
     ]
    }
   ],
   "source": [
    "wage_model_tanh = Sequential()\n",
    "\n",
    "wage_model_tanh.add(Dense(50, activation = 'tanh', input_shape = (pred.shape[1],)))\n",
    "wage_model_tanh.add(Dense(32, activation = 'tanh'))\n",
    "wage_model_tanh.add(Dense(1))\n",
    "\n",
    "wage_model_tanh.compile(optimizer = 'adam', loss = 'mean_squared_error')\n",
    "\n",
    "wage_model_tanh_training = wage_model_tanh.fit(pred,targ,epochs = 25,validation_split = 0.2,callbacks = [EarlyStopping(patience = 2)])"
   ]
  },
  {
   "cell_type": "raw",
   "metadata": {},
   "source": [
    "A visual comparison of the 'relu' and tanh models:"
   ]
  },
  {
   "cell_type": "code",
   "execution_count": 29,
   "metadata": {},
   "outputs": [
    {
     "data": {
      "image/png": "[encoded data removed]",
      "text/plain": [
       "<matplotlib.figure.Figure at 0x1a13a1df60>"
      ]
     },
     "metadata": {},
     "output_type": "display_data"
    }
   ],
   "source": [
    "import matplotlib.pyplot as plt\n",
    "\n",
    "plt.plot(wage_model_training.history['val_loss'], 'red')\n",
    "plt.plot(wage_model_tanh_training.history['val_loss'], 'blue')\n",
    "plt.xlabel('Epochs')\n",
    "plt.ylabel('Validation Loss')\n",
    "plt.show()"
   ]
  },
  {
   "cell_type": "markdown",
   "metadata": {},
   "source": [
    "# Classification: digit recognition"
   ]
  },
  {
   "cell_type": "code",
   "execution_count": 49,
   "metadata": {},
   "outputs": [
    {
     "name": "stdout",
     "output_type": "stream",
     "text": [
      "(2000, 784)\n",
      "<class 'numpy.ndarray'>\n",
      "(2000, 10)\n"
     ]
    }
   ],
   "source": [
    "from keras.utils import to_categorical\n",
    "\n",
    "mnist_df = pd.read_csv('mnist_clean.csv', header = None)\n",
    "mnist_df_pred = mnist_df.iloc[:,1:]\n",
    "mnist_pred = mnist_df_pred.values\n",
    "print(mnist_pred.shape)\n",
    "\n",
    "mnist_targ = to_categorical(mnist_df[0])\n",
    "print(type(mnist_targ))\n",
    "print(mnist_targ.shape)"
   ]
  },
  {
   "cell_type": "code",
   "execution_count": 72,
   "metadata": {},
   "outputs": [
    {
     "name": "stdout",
     "output_type": "stream",
     "text": [
      "Train on 1500 samples, validate on 500 samples\n",
      "Epoch 1/50\n",
      "1500/1500 [==============================] - 0s - loss: 11.5496 - acc: 0.2627 - val_loss: 10.6150 - val_acc: 0.3220\n",
      "Epoch 2/50\n",
      "1500/1500 [==============================] - 0s - loss: 9.7036 - acc: 0.3820 - val_loss: 9.6145 - val_acc: 0.3860\n",
      "Epoch 3/50\n",
      "1500/1500 [==============================] - 0s - loss: 8.7739 - acc: 0.4427 - val_loss: 8.3366 - val_acc: 0.4660\n",
      "Epoch 4/50\n",
      "1500/1500 [==============================] - 0s - loss: 7.9516 - acc: 0.4940 - val_loss: 8.1264 - val_acc: 0.4840\n",
      "Epoch 5/50\n",
      "1500/1500 [==============================] - 0s - loss: 7.2747 - acc: 0.5360 - val_loss: 6.9086 - val_acc: 0.5540\n",
      "Epoch 6/50\n",
      "1500/1500 [==============================] - 0s - loss: 6.9460 - acc: 0.5587 - val_loss: 7.5656 - val_acc: 0.5220\n",
      "Epoch 7/50\n",
      "1500/1500 [==============================] - 0s - loss: 6.7103 - acc: 0.5767 - val_loss: 6.9233 - val_acc: 0.5560\n",
      "Epoch 8/50\n",
      "1500/1500 [==============================] - 0s - loss: 6.3233 - acc: 0.6007 - val_loss: 6.6738 - val_acc: 0.5700\n",
      "Epoch 9/50\n",
      "1500/1500 [==============================] - 0s - loss: 6.4952 - acc: 0.5900 - val_loss: 6.6516 - val_acc: 0.5740\n",
      "Epoch 10/50\n",
      "1500/1500 [==============================] - 0s - loss: 6.0608 - acc: 0.6187 - val_loss: 6.2346 - val_acc: 0.6020\n",
      "Epoch 11/50\n",
      "1500/1500 [==============================] - 0s - loss: 5.9052 - acc: 0.6273 - val_loss: 6.4699 - val_acc: 0.5880\n",
      "Epoch 12/50\n",
      "1500/1500 [==============================] - 0s - loss: 6.1168 - acc: 0.6127 - val_loss: 6.4888 - val_acc: 0.5880\n",
      "Epoch 13/50\n",
      "1500/1500 [==============================] - 0s - loss: 5.7170 - acc: 0.6360 - val_loss: 6.3365 - val_acc: 0.5980\n",
      "Epoch 14/50\n",
      "1500/1500 [==============================] - 0s - loss: 6.0221 - acc: 0.6193 - val_loss: 6.7295 - val_acc: 0.5720\n"
     ]
    },
    {
     "data": {
      "text/plain": [
       "<keras.callbacks.History at 0x1a202cabe0>"
      ]
     },
     "execution_count": 72,
     "metadata": {},
     "output_type": "execute_result"
    }
   ],
   "source": [
    "digit_model = Sequential()\n",
    "\n",
    "digit_model.add(Dense(50, activation = 'relu', input_shape = (mnist_pred.shape[1],)))\n",
    "digit_model.add(Dense(50, activation = 'relu'))\n",
    "\n",
    "digit_model.add(Dense(10, activation = 'softmax'))\n",
    "\n",
    "digit_model.compile(optimizer = 'adam', loss = 'categorical_crossentropy', metrics = ['accuracy'])\n",
    "\n",
    "digit_model.fit(mnist_pred,mnist_targ,epochs = 50,callbacks = [EarlyStopping(patience = 3)],validation_split = 0.25)"
   ]
  },
  {
   "cell_type": "code",
   "execution_count": 62,
   "metadata": {},
   "outputs": [
    {
     "name": "stdout",
     "output_type": "stream",
     "text": [
      "(1600, 784)\n",
      "(400, 784)\n",
      "(1600, 10)\n"
     ]
    }
   ],
   "source": [
    "mnist_pred_train = mnist_df.iloc[:1600,1:].values\n",
    "print(mnist_pred_train.shape)\n",
    "mnist_pred_test = mnist_df.iloc[1600:,1:].values\n",
    "print(mnist_pred_test.shape)\n",
    "\n",
    "mnist_df_train = mnist_df.iloc[:1600,:]\n",
    "mnist_targ_train = to_categorical(mnist_df_train[0])\n",
    "print(mnist_targ_train.shape)"
   ]
  },
  {
   "cell_type": "code",
   "execution_count": 73,
   "metadata": {},
   "outputs": [
    {
     "data": {
      "text/plain": [
       "<keras.callbacks.History at 0x1a1d1dedd8>"
      ]
     },
     "execution_count": 73,
     "metadata": {},
     "output_type": "execute_result"
    }
   ],
   "source": [
    "digit_model_2 = Sequential()\n",
    "\n",
    "digit_model_2.add(Dense(50, activation = 'relu', input_shape = (mnist_pred.shape[1],)))\n",
    "digit_model_2.add(Dense(50, activation = 'relu'))\n",
    "\n",
    "digit_model_2.add(Dense(10, activation = 'softmax'))\n",
    "\n",
    "digit_model_2.compile(optimizer = 'adam', loss = 'categorical_crossentropy', metrics = ['accuracy'])\n",
    "\n",
    "digit_model_2.fit(mnist_pred_train,mnist_targ_train,verbose = False)"
   ]
  },
  {
   "cell_type": "code",
   "execution_count": 74,
   "metadata": {},
   "outputs": [
    {
     "name": "stdout",
     "output_type": "stream",
     "text": [
      "            prob_0        prob_1  prob_2  prob_3        prob_4  prob_5  \\\n",
      "1951  0.000000e+00  0.000000e+00     0.0     0.0  0.000000e+00     0.0   \n",
      "1952  0.000000e+00  0.000000e+00     0.0     0.0  0.000000e+00     0.0   \n",
      "1953  0.000000e+00  0.000000e+00     0.0     0.0  0.000000e+00     0.0   \n",
      "1954  0.000000e+00  0.000000e+00     0.0     0.0  0.000000e+00     0.0   \n",
      "1955  1.492544e-16  0.000000e+00     0.0     0.0  4.705659e-25     0.0   \n",
      "1956  3.447550e-14  0.000000e+00     0.0     0.0  0.000000e+00     0.0   \n",
      "1957  0.000000e+00  1.000000e+00     0.0     0.0  0.000000e+00     0.0   \n",
      "1958  0.000000e+00  0.000000e+00     0.0     0.0  0.000000e+00     0.0   \n",
      "1959  0.000000e+00  0.000000e+00     0.0     0.0  1.000000e+00     0.0   \n",
      "1960  0.000000e+00  0.000000e+00     0.0     0.0  0.000000e+00     0.0   \n",
      "1961  0.000000e+00  0.000000e+00     0.0     0.0  1.000000e+00     0.0   \n",
      "1962  0.000000e+00  0.000000e+00     0.0     0.0  0.000000e+00     0.0   \n",
      "1963  0.000000e+00  3.719021e-09     0.0     0.0  0.000000e+00     0.0   \n",
      "1964  0.000000e+00  2.480696e-37     0.0     0.0  0.000000e+00     0.0   \n",
      "1965  8.305525e-14  0.000000e+00     0.0     0.0  0.000000e+00     0.0   \n",
      "1966  0.000000e+00  0.000000e+00     0.0     0.0  0.000000e+00     0.0   \n",
      "1967  0.000000e+00  0.000000e+00     0.0     0.0  0.000000e+00     0.0   \n",
      "1968  0.000000e+00  0.000000e+00     0.0     0.0  0.000000e+00     0.0   \n",
      "1969  0.000000e+00  0.000000e+00     0.0     0.0  0.000000e+00     0.0   \n",
      "1970  0.000000e+00  0.000000e+00     0.0     0.0  0.000000e+00     0.0   \n",
      "1971  0.000000e+00  0.000000e+00     0.0     0.0  1.000000e+00     0.0   \n",
      "1972  0.000000e+00  0.000000e+00     0.0     0.0  1.000000e+00     0.0   \n",
      "1973  0.000000e+00  1.000000e+00     0.0     0.0  0.000000e+00     0.0   \n",
      "1974  0.000000e+00  0.000000e+00     0.0     0.0  0.000000e+00     0.0   \n",
      "1975  0.000000e+00  0.000000e+00     0.0     0.0  0.000000e+00     0.0   \n",
      "1976  0.000000e+00  0.000000e+00     0.0     0.0  8.756000e-14     0.0   \n",
      "1977  0.000000e+00  9.812767e-14     0.0     0.0  0.000000e+00     0.0   \n",
      "1978  1.000000e+00  0.000000e+00     0.0     0.0  0.000000e+00     0.0   \n",
      "1979  0.000000e+00  0.000000e+00     0.0     0.0  0.000000e+00     0.0   \n",
      "1980  0.000000e+00  0.000000e+00     0.0     0.0  0.000000e+00     0.0   \n",
      "1981  0.000000e+00  0.000000e+00     0.0     0.0  0.000000e+00     0.0   \n",
      "1982  0.000000e+00  1.000000e+00     0.0     0.0  0.000000e+00     0.0   \n",
      "1983  0.000000e+00  0.000000e+00     0.0     0.0  0.000000e+00     0.0   \n",
      "1984  1.000000e+00  0.000000e+00     0.0     0.0  0.000000e+00     0.0   \n",
      "1985  1.000000e+00  0.000000e+00     0.0     0.0  0.000000e+00     0.0   \n",
      "1986  0.000000e+00  2.582403e-20     0.0     0.0  0.000000e+00     0.0   \n",
      "1987  0.000000e+00  0.000000e+00     0.0     0.0  0.000000e+00     0.0   \n",
      "1988  0.000000e+00  1.000000e+00     0.0     0.0  0.000000e+00     0.0   \n",
      "1989  0.000000e+00  1.000000e+00     0.0     0.0  0.000000e+00     0.0   \n",
      "1990  0.000000e+00  0.000000e+00     0.0     0.0  0.000000e+00     0.0   \n",
      "1991  0.000000e+00  0.000000e+00     0.0     0.0  1.000000e+00     0.0   \n",
      "1992  0.000000e+00  9.592910e-01     0.0     0.0  0.000000e+00     0.0   \n",
      "1993  1.000000e+00  0.000000e+00     0.0     0.0  0.000000e+00     0.0   \n",
      "1994  1.000000e+00  0.000000e+00     0.0     0.0  0.000000e+00     0.0   \n",
      "1995  0.000000e+00  0.000000e+00     0.0     0.0  1.980572e-34     0.0   \n",
      "1996  0.000000e+00  0.000000e+00     0.0     0.0  0.000000e+00     0.0   \n",
      "1997  0.000000e+00  1.440110e-15     0.0     0.0  0.000000e+00     0.0   \n",
      "1998  0.000000e+00  0.000000e+00     0.0     0.0  0.000000e+00     0.0   \n",
      "1999  0.000000e+00  0.000000e+00     0.0     0.0  1.000000e+00     0.0   \n",
      "2000  0.000000e+00  0.000000e+00     0.0     0.0  2.791832e-17     0.0   \n",
      "\n",
      "      prob_6  prob_7        prob_8  prob_9  \n",
      "1951     0.0     0.0  1.000000e+00     0.0  \n",
      "1952     0.0     0.0  1.000000e+00     0.0  \n",
      "1953     0.0     0.0  1.000000e+00     0.0  \n",
      "1954     0.0     0.0  1.000000e+00     0.0  \n",
      "1955     0.0     0.0  1.000000e+00     0.0  \n",
      "1956     0.0     0.0  1.000000e+00     0.0  \n",
      "1957     0.0     0.0  0.000000e+00     0.0  \n",
      "1958     0.0     0.0  1.000000e+00     0.0  \n",
      "1959     0.0     0.0  5.845899e-28     0.0  \n",
      "1960     0.0     0.0  1.000000e+00     0.0  \n",
      "1961     0.0     0.0  0.000000e+00     0.0  \n",
      "1962     0.0     0.0  1.000000e+00     0.0  \n",
      "1963     0.0     0.0  1.000000e+00     0.0  \n",
      "1964     0.0     0.0  1.000000e+00     0.0  \n",
      "1965     0.0     0.0  1.000000e+00     0.0  \n",
      "1966     0.0     0.0  1.000000e+00     0.0  \n",
      "1967     0.0     0.0  1.000000e+00     0.0  \n",
      "1968     0.0     0.0  1.000000e+00     0.0  \n",
      "1969     0.0     0.0  1.000000e+00     0.0  \n",
      "1970     0.0     0.0  1.000000e+00     0.0  \n",
      "1971     0.0     0.0  0.000000e+00     0.0  \n",
      "1972     0.0     0.0  0.000000e+00     0.0  \n",
      "1973     0.0     0.0  0.000000e+00     0.0  \n",
      "1974     0.0     0.0  1.000000e+00     0.0  \n",
      "1975     0.0     0.0  1.000000e+00     0.0  \n",
      "1976     0.0     0.0  1.000000e+00     0.0  \n",
      "1977     0.0     0.0  1.000000e+00     0.0  \n",
      "1978     0.0     0.0  0.000000e+00     0.0  \n",
      "1979     0.0     0.0  1.000000e+00     0.0  \n",
      "1980     0.0     0.0  1.000000e+00     0.0  \n",
      "1981     0.0     0.0  1.000000e+00     0.0  \n",
      "1982     0.0     0.0  0.000000e+00     0.0  \n",
      "1983     0.0     0.0  1.000000e+00     0.0  \n",
      "1984     0.0     0.0  0.000000e+00     0.0  \n",
      "1985     0.0     0.0  0.000000e+00     0.0  \n",
      "1986     0.0     0.0  1.000000e+00     0.0  \n",
      "1987     0.0     0.0  1.000000e+00     0.0  \n",
      "1988     0.0     0.0  0.000000e+00     0.0  \n",
      "1989     0.0     0.0  2.993494e-34     0.0  \n",
      "1990     0.0     0.0  1.000000e+00     0.0  \n",
      "1991     0.0     0.0  0.000000e+00     0.0  \n",
      "1992     0.0     0.0  4.070904e-02     0.0  \n",
      "1993     0.0     0.0  0.000000e+00     0.0  \n",
      "1994     0.0     0.0  0.000000e+00     0.0  \n",
      "1995     0.0     0.0  1.000000e+00     0.0  \n",
      "1996     0.0     0.0  1.000000e+00     0.0  \n",
      "1997     0.0     0.0  1.000000e+00     0.0  \n",
      "1998     0.0     0.0  1.000000e+00     0.0  \n",
      "1999     0.0     0.0  1.884148e-16     0.0  \n",
      "2000     0.0     0.0  1.000000e+00     0.0  \n"
     ]
    }
   ],
   "source": [
    "digit_preds = digit_model_2.predict(mnist_pred_test)\n",
    "digit_preds_df = pd.DataFrame(digit_preds, index = range(1601,2001), columns = ['prob_0','prob_1','prob_2','prob_3','prob_4','prob_5','prob_6','prob_7','prob_8','prob_9'])\n",
    "print(digit_preds_df.tail(50))"
   ]
  },
  {
   "cell_type": "markdown",
   "metadata": {},
   "source": [
    "# Neural network plotting"
   ]
  },
  {
   "cell_type": "code",
   "execution_count": 91,
   "metadata": {
    "collapsed": true
   },
   "outputs": [],
   "source": [
    "def draw_neural_net(ax, left, right, bottom, top, layer_sizes):\n",
    "    '''\n",
    "    Draw a neural network cartoon using matplotilb.\n",
    "    \n",
    "    :usage:\n",
    "        >>> fig = plt.figure(figsize=(12, 12))\n",
    "        >>> draw_neural_net(fig.gca(), .1, .9, .1, .9, [4, 7, 2])\n",
    "    \n",
    "    :parameters:\n",
    "        - ax : matplotlib.axes.AxesSubplot\n",
    "            The axes on which to plot the cartoon (get e.g. by plt.gca())\n",
    "        - left : float\n",
    "            The center of the leftmost node(s) will be placed here\n",
    "        - right : float\n",
    "            The center of the rightmost node(s) will be placed here\n",
    "        - bottom : float\n",
    "            The center of the bottommost node(s) will be placed here\n",
    "        - top : float\n",
    "            The center of the topmost node(s) will be placed here\n",
    "        - layer_sizes : list of int\n",
    "            List of layer sizes, including input and output dimensionality\n",
    "    '''\n",
    "    n_layers = len(layer_sizes)\n",
    "    v_spacing = (top - bottom)/float(max(layer_sizes))\n",
    "    h_spacing = (right - left)/float(len(layer_sizes) - 1)\n",
    "    # Nodes\n",
    "    for n, layer_size in enumerate(layer_sizes):\n",
    "        layer_top = v_spacing*(layer_size - 1)/2. + (top + bottom)/2.\n",
    "        for m in range(layer_size):\n",
    "            circle = plt.Circle((n*h_spacing + left, layer_top - m*v_spacing), v_spacing/4.,\n",
    "                                color='w', ec='k', zorder=4) # height = 1\n",
    "            ax.add_artist(circle)\n",
    "    # Edges (i.e., synapse connections)\n",
    "    for n, (layer_size_a, layer_size_b) in enumerate(zip(layer_sizes[:-1], layer_sizes[1:])):\n",
    "        layer_top_a = v_spacing*(layer_size_a - 1)/2. + (top + bottom)/2.\n",
    "        layer_top_b = v_spacing*(layer_size_b - 1)/2. + (top + bottom)/2.\n",
    "        for m in range(layer_size_a):\n",
    "            for o in range(layer_size_b):\n",
    "                line = plt.Line2D([n*h_spacing + left, (n + 1)*h_spacing + left],\n",
    "                                  [layer_top_a - m*v_spacing, layer_top_b - o*v_spacing], c='b')\n",
    "                ax.add_artist(line)"
   ]
  },
  {
   "cell_type": "code",
   "execution_count": 96,
   "metadata": {},
   "outputs": [
    {
     "data": {
      "image/png": "[encoded data removed]",
      "text/plain": [
       "<matplotlib.figure.Figure at 0x1a251e9160>"
      ]
     },
     "metadata": {},
     "output_type": "display_data"
    }
   ],
   "source": [
    "fig = plt.figure(figsize=(12, 12))\n",
    "ax = fig.gca()\n",
    "ax.axis('off')\n",
    "draw_neural_net(ax, .1, .9, .1, .9, [2, 2, 1])\n",
    "fig.savefig('nn.png')\n",
    "plt.show()"
   ]
  },
  {
   "cell_type": "code",
   "execution_count": null,
   "metadata": {
    "collapsed": true
   },
   "outputs": [],
   "source": []
  }
 ],
 "metadata": {
  "kernelspec": {
   "display_name": "Python 3",
   "language": "python",
   "name": "python3"
  },
  "language_info": {
   "codemirror_mode": {
    "name": "ipython",
    "version": 3
   },
   "file_extension": ".py",
   "mimetype": "text/x-python",
   "name": "python",
   "nbconvert_exporter": "python",
   "pygments_lexer": "ipython3",
   "version": "3.6.3"
  }
 },
 "nbformat": 4,
 "nbformat_minor": 2
}
